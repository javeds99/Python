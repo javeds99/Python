{
 "cells": [
  {
   "cell_type": "code",
   "execution_count": 1,
   "id": "b199060b",
   "metadata": {},
   "outputs": [],
   "source": [
    "import pandas as pd\n",
    "import numpy as np\n",
    "import os\n",
    "import seaborn as sns\n",
    "import scipy\n",
    "import matplotlib.pyplot as plt"
   ]
  },
  {
   "cell_type": "code",
   "execution_count": 2,
   "id": "2badddb8",
   "metadata": {},
   "outputs": [],
   "source": [
    "path = r'C:\\Users\\javed\\instacart Basket Analysis'"
   ]
  },
  {
   "cell_type": "code",
   "execution_count": 9,
   "id": "d3274831",
   "metadata": {},
   "outputs": [],
   "source": [
    "df_ords = pd.read_csv(os.path.join(path, '02 Data', 'Prepared Data', 'orders_wrangled.csv'), index_col = False)"
   ]
  },
  {
   "cell_type": "code",
   "execution_count": 10,
   "id": "f12a4194",
   "metadata": {},
   "outputs": [],
   "source": [
    "crosstab = pd.crosstab(df_ords['days_since_prior_order'], df_ords['order_number'], dropna = False)"
   ]
  },
  {
   "cell_type": "code",
   "execution_count": 11,
   "id": "a4359710",
   "metadata": {},
   "outputs": [],
   "source": [
    "crosstab.to_clipboard()"
   ]
  },
  {
   "cell_type": "code",
   "execution_count": null,
   "id": "ad170d92",
   "metadata": {},
   "outputs": [],
   "source": []
  }
 ],
 "metadata": {
  "kernelspec": {
   "display_name": "Python 3",
   "language": "python",
   "name": "python3"
  },
  "language_info": {
   "codemirror_mode": {
    "name": "ipython",
    "version": 3
   },
   "file_extension": ".py",
   "mimetype": "text/x-python",
   "name": "python",
   "nbconvert_exporter": "python",
   "pygments_lexer": "ipython3",
   "version": "3.8.8"
  }
 },
 "nbformat": 4,
 "nbformat_minor": 5
}
