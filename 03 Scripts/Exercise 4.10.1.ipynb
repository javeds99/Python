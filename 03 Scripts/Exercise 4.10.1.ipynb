{
 "cells": [
  {
   "cell_type": "markdown",
   "id": "ad420883",
   "metadata": {},
   "source": [
    "# Steps 1-9"
   ]
  },
  {
   "cell_type": "code",
   "execution_count": 1,
   "id": "5de0d1ad",
   "metadata": {},
   "outputs": [],
   "source": [
    "#Importing Libraries:\n",
    "import pandas as pd\n",
    "import numpy as np\n",
    "import os\n",
    "import seaborn as sns\n",
    "import scipy\n",
    "import matplotlib.pyplot as plt"
   ]
  },
  {
   "cell_type": "code",
   "execution_count": 2,
   "id": "a1cceef9",
   "metadata": {},
   "outputs": [],
   "source": [
    "path = r'C:\\Users\\javed\\instacart Basket Analysis'"
   ]
  },
  {
   "cell_type": "code",
   "execution_count": 3,
   "id": "75c7c36e",
   "metadata": {},
   "outputs": [],
   "source": [
    "#1. Import the merged data set you exported.\n",
    "df= pd.read_pickle(os.path.join(path, '02 Data', 'Prepared Data', 'fn.pkl'))"
   ]
  },
  {
   "cell_type": "code",
   "execution_count": 4,
   "id": "620270fe",
   "metadata": {},
   "outputs": [
    {
     "name": "stdout",
     "output_type": "stream",
     "text": [
      "<class 'pandas.core.frame.DataFrame'>\n",
      "Int64Index: 32404859 entries, 0 to 32404858\n",
      "Data columns (total 24 columns):\n",
      " #   Column                 Dtype  \n",
      "---  ------                 -----  \n",
      " 0   user_id                int64  \n",
      " 1   First Name             object \n",
      " 2   Surnam                 object \n",
      " 3   Gender                 object \n",
      " 4   STATE                  object \n",
      " 5   Age                    int64  \n",
      " 6   n_dependants           int64  \n",
      " 7   fam_status             object \n",
      " 8   income                 int64  \n",
      " 9   order_id               int64  \n",
      " 10  order_number           int64  \n",
      " 11  orders_day_of_week     int64  \n",
      " 12  order_hour_of_day      int64  \n",
      " 13  product_id             int64  \n",
      " 14  product_name           object \n",
      " 15  department_id          int64  \n",
      " 16  prices                 float64\n",
      " 17  price_range            object \n",
      " 18  busiest_days           object \n",
      " 19  busiest_period_of_day  object \n",
      " 20  max_order              int64  \n",
      " 21  loyalty_flag           object \n",
      " 22  avg_price              float64\n",
      " 23  spending_flag          object \n",
      "dtypes: float64(2), int64(11), object(11)\n",
      "memory usage: 6.0+ GB\n"
     ]
    }
   ],
   "source": [
    "#2. You’ll need to address any PII data in the data before continuing your analysis.\n",
    "df.info()"
   ]
  },
  {
   "cell_type": "markdown",
   "id": "a2791d82",
   "metadata": {},
   "source": [
    "The 'n_dependants' and 'fam_status' columns are the only columns that could be considered PII data, however it will not be removed because this is information that customers gave to Instacart and it is useful."
   ]
  },
  {
   "cell_type": "code",
   "execution_count": 4,
   "id": "47d2e461",
   "metadata": {},
   "outputs": [],
   "source": [
    "#3. Create a regional segmentation of the data.\n",
    "def region_label(row):\n",
    "\n",
    "  if (row['STATE'] == 'Connecticut') or (row['STATE'] == 'Vermont') or (row['STATE'] =='Maine') or (row['STATE'] == 'Rhode Island') or (row['STATE'] == 'Massachusetts') or (row['STATE'] == 'New Hampshire') or (row['STATE'] == 'New York') or (row['STATE'] == 'New Jersey') or (row['STATE'] == 'Pennsylvania'):\n",
    "    return 'Northeast'\n",
    "  elif (row['STATE'] == 'Wisconsin') or (row['STATE'] == 'Michigan') or (row['STATE'] == 'Illinois') or (row['STATE'] == 'Ohio') or (row['STATE'] == 'Indiana') or (row['STATE'] == 'North Dakota') or (row['STATE'] == 'South Dakota') or (row['STATE'] == 'Nebraska') or (row['STATE'] =='Kansas') or (row['STATE'] == 'Minnesota') or (row['STATE'] == 'Iowa') or (row['STATE'] == 'Missouri'):\n",
    "    return 'Midwest'\n",
    "  elif (row['STATE'] == 'Idaho') or (row['STATE'] == 'Wyoming') or (row['STATE'] == 'Montana') or (row['STATE'] == 'Nevada') or (row['STATE'] == 'Utah') or (row['STATE'] == 'Colorado') or (row['STATE'] == 'Arizona') or (row['STATE'] == 'New Mexico') or (row['STATE'] == 'Alaska') or (row['STATE'] == 'Washington') or (row['STATE'] == 'Oregon') or (row['STATE'] == 'California') or (row['STATE'] == 'Hawaii'):\n",
    "    return 'West'\n",
    "  else: return 'South'"
   ]
  },
  {
   "cell_type": "code",
   "execution_count": 5,
   "id": "bdb190b8",
   "metadata": {},
   "outputs": [],
   "source": [
    "df['region'] = df.apply(region_label, axis=1)"
   ]
  },
  {
   "cell_type": "code",
   "execution_count": 6,
   "id": "ca6beaae",
   "metadata": {},
   "outputs": [],
   "source": [
    "#4. Create an exclusion flag for low-activity customers\n",
    "def exclusion_label(row):\n",
    "\n",
    "  if row['max_order'] < 5:\n",
    "    return 'Low Activity'\n",
    "  else: return 'Good Activity'"
   ]
  },
  {
   "cell_type": "code",
   "execution_count": 7,
   "id": "521f6112",
   "metadata": {},
   "outputs": [],
   "source": [
    "df['activity'] = df.apply(exclusion_label, axis=1)"
   ]
  },
  {
   "cell_type": "code",
   "execution_count": 8,
   "id": "fc9d4870",
   "metadata": {},
   "outputs": [],
   "source": [
    "df1 = df[df['activity'] == 'Good Activity']"
   ]
  },
  {
   "cell_type": "code",
   "execution_count": 10,
   "id": "63434b86",
   "metadata": {},
   "outputs": [],
   "source": [
    "#Create an exclusion flag for low-activity customers and exclude them for the CFO:\n",
    "df1.to_pickle(os.path.join(path, '02 Data', 'Prepared Data','lowact_excluded.pkl'))"
   ]
  },
  {
   "cell_type": "code",
   "execution_count": 9,
   "id": "72808afa",
   "metadata": {},
   "outputs": [],
   "source": [
    "#5. Create a profiling variable based on age, income, certain goods in the “department_id” column, and number of dependents."
   ]
  },
  {
   "cell_type": "code",
   "execution_count": 11,
   "id": "66f5a2c0",
   "metadata": {},
   "outputs": [],
   "source": [
    "#User-Defined Function for profiling based on age and fam_status\n",
    "def cust_prof1(row):\n",
    "\n",
    "  if (row['Age'] <= 29) and (row['fam_status'] == 'single'):\n",
    "    return 'Young Single Adult'\n",
    "  elif (row['Age'] >= 30) and (row['Age'] <=55) and (row['fam_status'] == 'single'):\n",
    "    return 'Mid-Age Single Adult'\n",
    "  elif (row['Age'] > 55) and (row['fam_status'] == 'single'):\n",
    "    return 'Single Senior'\n",
    "  elif (row['Age'] <= 29) and (row['fam_status'] == 'married'):\n",
    "    return 'Young Married Adult'\n",
    "  elif (row['Age'] >= 30) and (row['Age'] <= 55) and (row['fam_status'] == 'married'):\n",
    "    return 'Mid-Age Married Adult'\n",
    "  elif (row['Age'] > 55) and (row['fam_status'] == 'married'):\n",
    "    return 'Married Senior'\n",
    "  elif (row['Age'] <= 29) and (row['fam_status'] == 'divorced/widowed'):\n",
    "    return 'Young Divorced/Widowed Adult'\n",
    "  elif (row['Age'] >= 30) and (row['Age'] < 55) and (row['fam_status'] == 'divorced/widowed'):\n",
    "    return 'Mid-Age Divorced/Widowed Adult'\n",
    "  elif (row['Age'] > 55) and (row['fam_status'] == 'divorced/widowed'):\n",
    "    return 'Divorced/Widowed Senior'\n",
    "  elif (row['Age'] > 18) and (row['fam_status'] == 'living with parents and siblings'):\n",
    "    return 'Lives with parents/siblings'\n",
    "  else: return 'Young/Mid-Age Divorced/Widowed Adults'"
   ]
  },
  {
   "cell_type": "code",
   "execution_count": 12,
   "id": "e51b1efc",
   "metadata": {
    "scrolled": true
   },
   "outputs": [],
   "source": [
    "df['age_fam_profile'] = df.apply(cust_prof1, axis =1)"
   ]
  },
  {
   "cell_type": "code",
   "execution_count": 13,
   "id": "822bd139",
   "metadata": {},
   "outputs": [],
   "source": [
    "#User Defined Function for profiling based on income, and number of dependants.\n",
    "def cust_prof(row):\n",
    "\n",
    "  if (row['income'] <= 35999) and (row['n_dependants'] == 0):\n",
    "    return 'Low Income/ No Dependants'\n",
    "  elif (row['income'] >= 36000) and (row['income'] <=99999) and (row['n_dependants'] == 0):\n",
    "    return 'Middle Income/ No Dependants'\n",
    "  elif (row['income'] > 99999) and (row['income'] <= 209999) and (row['n_dependants'] == 0):\n",
    "    return 'Good-High Income/ No Dependants'\n",
    "  elif (row['income'] >= 210000) and (row['n_dependants'] == 0):\n",
    "    return 'Wealthy/ No Dependants'\n",
    "  elif (row['income'] <= 35999) and (row['n_dependants'] >= 1) and (row['n_dependants'] <=3):\n",
    "    return 'Low Income/ One or More Dependants'\n",
    "  elif (row['income'] >= 36000) and (row['income'] <=99999) and (row['n_dependants'] >= 1) and (row['n_dependants'] <=3):\n",
    "    return 'Middle Income/ One or More Dependants'\n",
    "  elif (row['income'] > 99999) and (row['income'] <=209999) and (row['n_dependants'] >= 1) and (row['n_dependants'] <=3):\n",
    "    return 'Good-High Income/ One or More Dependants'\n",
    "  elif (row['income'] >=210000) and (row['n_dependants'] >=1) and (row['n_dependants'] <= 3):\n",
    "    return 'Wealthy/ One or More Dependants'"
   ]
  },
  {
   "cell_type": "code",
   "execution_count": 14,
   "id": "2b93e2f9",
   "metadata": {},
   "outputs": [],
   "source": [
    "df['income_dep_prof'] = df.apply(cust_prof, axis=1)"
   ]
  },
  {
   "cell_type": "code",
   "execution_count": 16,
   "id": "d0425509",
   "metadata": {},
   "outputs": [],
   "source": [
    "df.to_pickle(os.path.join(path, '02 Data', 'Prepared Data', 'final.pkl'))"
   ]
  },
  {
   "cell_type": "code",
   "execution_count": 17,
   "id": "91cad047",
   "metadata": {},
   "outputs": [
    {
     "data": {
      "image/png": "[encoded data removed]",
      "text/plain": [
       "<Figure size 432x288 with 1 Axes>"
      ]
     },
     "metadata": {
      "needs_background": "light"
     },
     "output_type": "display_data"
    }
   ],
   "source": [
    "#6. Create an appropriate visualization to show the distribution of profiles.\n",
    "bar1 = df['age_fam_profile'].value_counts().plot.bar(color = 'green')"
   ]
  },
  {
   "cell_type": "code",
   "execution_count": 18,
   "id": "3721d106",
   "metadata": {},
   "outputs": [
    {
     "data": {
      "image/png": "[encoded data removed]",
      "text/plain": [
       "<Figure size 432x288 with 1 Axes>"
      ]
     },
     "metadata": {
      "needs_background": "light"
     },
     "output_type": "display_data"
    }
   ],
   "source": [
    "bar2 = df['region'].value_counts().plot.bar(color = 'purple')"
   ]
  },
  {
   "cell_type": "code",
   "execution_count": 19,
   "id": "24f226ab",
   "metadata": {},
   "outputs": [
    {
     "data": {
      "image/png": "[encoded data removed]",
      "text/plain": [
       "<Figure size 432x288 with 1 Axes>"
      ]
     },
     "metadata": {
      "needs_background": "light"
     },
     "output_type": "display_data"
    }
   ],
   "source": [
    "bar3 = df['income_dep_prof'].value_counts().plot.bar()"
   ]
  },
  {
   "cell_type": "code",
   "execution_count": 20,
   "id": "93aa7e8d",
   "metadata": {},
   "outputs": [
    {
     "data": {
      "text/html": [
       "<div>\n",
       "<style scoped>\n",
       "    .dataframe tbody tr th:only-of-type {\n",
       "        vertical-align: middle;\n",
       "    }\n",
       "\n",
       "    .dataframe tbody tr th {\n",
       "        vertical-align: top;\n",
       "    }\n",
       "\n",
       "    .dataframe thead tr th {\n",
       "        text-align: left;\n",
       "    }\n",
       "\n",
       "    .dataframe thead tr:last-of-type th {\n",
       "        text-align: right;\n",
       "    }\n",
       "</style>\n",
       "<table border=\"1\" class=\"dataframe\">\n",
       "  <thead>\n",
       "    <tr>\n",
       "      <th></th>\n",
       "      <th colspan=\"3\" halign=\"left\">prices</th>\n",
       "    </tr>\n",
       "    <tr>\n",
       "      <th></th>\n",
       "      <th>mean</th>\n",
       "      <th>max</th>\n",
       "      <th>min</th>\n",
       "    </tr>\n",
       "    <tr>\n",
       "      <th>spending_flag</th>\n",
       "      <th></th>\n",
       "      <th></th>\n",
       "      <th></th>\n",
       "    </tr>\n",
       "  </thead>\n",
       "  <tbody>\n",
       "    <tr>\n",
       "      <th>High Spender</th>\n",
       "      <td>184.511287</td>\n",
       "      <td>99999.0</td>\n",
       "      <td>1.0</td>\n",
       "    </tr>\n",
       "    <tr>\n",
       "      <th>Low Spender</th>\n",
       "      <td>7.761482</td>\n",
       "      <td>25.0</td>\n",
       "      <td>1.0</td>\n",
       "    </tr>\n",
       "  </tbody>\n",
       "</table>\n",
       "</div>"
      ],
      "text/plain": [
       "                   prices              \n",
       "                     mean      max  min\n",
       "spending_flag                          \n",
       "High Spender   184.511287  99999.0  1.0\n",
       "Low Spender      7.761482     25.0  1.0"
      ]
     },
     "execution_count": 20,
     "metadata": {},
     "output_type": "execute_result"
    }
   ],
   "source": [
    "#7. Aggregate the max, mean, and min variables on a customer-profile level for usage frequency and expenditure.\n",
    "df.groupby('spending_flag').agg({'prices' : ['mean', 'max', 'min']})"
   ]
  },
  {
   "cell_type": "code",
   "execution_count": 21,
   "id": "4a6c0362",
   "metadata": {},
   "outputs": [
    {
     "data": {
      "text/plain": [
       "South        330222\n",
       "West         261100\n",
       "Midwest      222311\n",
       "Northeast    186367\n",
       "Name: region, dtype: int64"
      ]
     },
     "execution_count": 21,
     "metadata": {},
     "output_type": "execute_result"
    }
   ],
   "source": [
    "#8. Compare your customer profiles with regions and departments. \n",
    "df['region'].value_counts(dropna = False)"
   ]
  },
  {
   "cell_type": "markdown",
   "id": "d56cfc43",
   "metadata": {},
   "source": [
    "South is the largest region "
   ]
  },
  {
   "cell_type": "code",
   "execution_count": 22,
   "id": "897a2d2b",
   "metadata": {},
   "outputs": [
    {
     "data": {
      "text/plain": [
       "4     293193\n",
       "16    165397\n",
       "19     89959\n",
       "7      81973\n",
       "1      69971\n",
       "13     57449\n",
       "3      35196\n",
       "15     33475\n",
       "20     33297\n",
       "9      26391\n",
       "17     23218\n",
       "14     21562\n",
       "12     21322\n",
       "11     14026\n",
       "18     13233\n",
       "6       8628\n",
       "5       4384\n",
       "8       3184\n",
       "21      1936\n",
       "2       1145\n",
       "10      1061\n",
       "Name: department_id, dtype: int64"
      ]
     },
     "execution_count": 22,
     "metadata": {},
     "output_type": "execute_result"
    }
   ],
   "source": [
    "df['department_id'].value_counts(dropna = False)"
   ]
  },
  {
   "cell_type": "markdown",
   "id": "faa85461",
   "metadata": {},
   "source": [
    "Department #4 is the highest selling department"
   ]
  },
  {
   "cell_type": "code",
   "execution_count": 23,
   "id": "f5389c43",
   "metadata": {},
   "outputs": [
    {
     "data": {
      "text/plain": [
       "Mid-Age Married Adult                    311716\n",
       "Married Senior                           303154\n",
       "Mid-Age Single Adult                      99147\n",
       "Young Married Adult                       86377\n",
       "Divorced/Widowed Senior                   78613\n",
       "Young Single Adult                        46038\n",
       "Lives with parents/siblings               41227\n",
       "Young/Mid-Age Divorced/Widowed Adults     17153\n",
       "Single Senior                             16575\n",
       "Name: age_fam_profile, dtype: int64"
      ]
     },
     "execution_count": 23,
     "metadata": {},
     "output_type": "execute_result"
    }
   ],
   "source": [
    "df['age_fam_profile'].value_counts(dropna = False)"
   ]
  },
  {
   "cell_type": "markdown",
   "id": "27feb7a9",
   "metadata": {},
   "source": [
    "Mid-age married adults are the largest demographic"
   ]
  },
  {
   "cell_type": "code",
   "execution_count": 24,
   "id": "394bdf84",
   "metadata": {},
   "outputs": [],
   "source": [
    "#Creating subsets that will be joined together:\n",
    "df1= df[df['region']== 'South']"
   ]
  },
  {
   "cell_type": "code",
   "execution_count": 25,
   "id": "f540f225",
   "metadata": {},
   "outputs": [],
   "source": [
    "df2= df[df['department_id']==4]"
   ]
  },
  {
   "cell_type": "code",
   "execution_count": 26,
   "id": "5a64f7b1",
   "metadata": {},
   "outputs": [],
   "source": [
    "df3 = df[df['age_fam_profile']== 'Mid-Age Married Adult']"
   ]
  },
  {
   "cell_type": "code",
   "execution_count": 27,
   "id": "81bc25a7",
   "metadata": {
    "scrolled": true
   },
   "outputs": [],
   "source": [
    "#Merging the first 2 data sets:\n",
    "merged1= df1.merge(df2, how = 'inner')"
   ]
  },
  {
   "cell_type": "code",
   "execution_count": 28,
   "id": "60f60afc",
   "metadata": {},
   "outputs": [],
   "source": [
    "merged_df = merged1.merge(df3, how = 'inner')"
   ]
  },
  {
   "cell_type": "code",
   "execution_count": 29,
   "id": "b8e88ae3",
   "metadata": {},
   "outputs": [
    {
     "data": {
      "text/html": [
       "<div>\n",
       "<style scoped>\n",
       "    .dataframe tbody tr th:only-of-type {\n",
       "        vertical-align: middle;\n",
       "    }\n",
       "\n",
       "    .dataframe tbody tr th {\n",
       "        vertical-align: top;\n",
       "    }\n",
       "\n",
       "    .dataframe thead th {\n",
       "        text-align: right;\n",
       "    }\n",
       "</style>\n",
       "<table border=\"1\" class=\"dataframe\">\n",
       "  <thead>\n",
       "    <tr style=\"text-align: right;\">\n",
       "      <th></th>\n",
       "      <th>user_id</th>\n",
       "      <th>First Name</th>\n",
       "      <th>Surnam</th>\n",
       "      <th>Gender</th>\n",
       "      <th>STATE</th>\n",
       "      <th>Age</th>\n",
       "      <th>n_dependants</th>\n",
       "      <th>fam_status</th>\n",
       "      <th>income</th>\n",
       "      <th>order_id</th>\n",
       "      <th>...</th>\n",
       "      <th>busiest_days</th>\n",
       "      <th>busiest_period_of_day</th>\n",
       "      <th>max_order</th>\n",
       "      <th>loyalty_flag</th>\n",
       "      <th>avg_price</th>\n",
       "      <th>spending_flag</th>\n",
       "      <th>region</th>\n",
       "      <th>activity</th>\n",
       "      <th>age_fam_profile</th>\n",
       "      <th>income_dep_prof</th>\n",
       "    </tr>\n",
       "  </thead>\n",
       "  <tbody>\n",
       "    <tr>\n",
       "      <th>0</th>\n",
       "      <td>133128</td>\n",
       "      <td>Cynthia</td>\n",
       "      <td>Noble</td>\n",
       "      <td>Female</td>\n",
       "      <td>Kentucky</td>\n",
       "      <td>43</td>\n",
       "      <td>2</td>\n",
       "      <td>married</td>\n",
       "      <td>49643</td>\n",
       "      <td>1723820</td>\n",
       "      <td>...</td>\n",
       "      <td>Regularly Busy</td>\n",
       "      <td>Average Orders</td>\n",
       "      <td>7</td>\n",
       "      <td>New Customer</td>\n",
       "      <td>6.806667</td>\n",
       "      <td>Low Spender</td>\n",
       "      <td>South</td>\n",
       "      <td>Good Activity</td>\n",
       "      <td>Mid-Age Married Adult</td>\n",
       "      <td>Middle Income/ One or More Dependants</td>\n",
       "    </tr>\n",
       "    <tr>\n",
       "      <th>1</th>\n",
       "      <td>133128</td>\n",
       "      <td>Cynthia</td>\n",
       "      <td>Noble</td>\n",
       "      <td>Female</td>\n",
       "      <td>Kentucky</td>\n",
       "      <td>43</td>\n",
       "      <td>2</td>\n",
       "      <td>married</td>\n",
       "      <td>49643</td>\n",
       "      <td>1723820</td>\n",
       "      <td>...</td>\n",
       "      <td>Regularly Busy</td>\n",
       "      <td>Average Orders</td>\n",
       "      <td>7</td>\n",
       "      <td>New Customer</td>\n",
       "      <td>6.806667</td>\n",
       "      <td>Low Spender</td>\n",
       "      <td>South</td>\n",
       "      <td>Good Activity</td>\n",
       "      <td>Mid-Age Married Adult</td>\n",
       "      <td>Middle Income/ One or More Dependants</td>\n",
       "    </tr>\n",
       "    <tr>\n",
       "      <th>2</th>\n",
       "      <td>69965</td>\n",
       "      <td>Jeremy</td>\n",
       "      <td>Vang</td>\n",
       "      <td>Male</td>\n",
       "      <td>Texas</td>\n",
       "      <td>47</td>\n",
       "      <td>1</td>\n",
       "      <td>married</td>\n",
       "      <td>162432</td>\n",
       "      <td>535198</td>\n",
       "      <td>...</td>\n",
       "      <td>Busiest Days</td>\n",
       "      <td>Average Orders</td>\n",
       "      <td>15</td>\n",
       "      <td>Regular Customer</td>\n",
       "      <td>8.286667</td>\n",
       "      <td>Low Spender</td>\n",
       "      <td>South</td>\n",
       "      <td>Good Activity</td>\n",
       "      <td>Mid-Age Married Adult</td>\n",
       "      <td>Good-High Income/ One or More Dependants</td>\n",
       "    </tr>\n",
       "    <tr>\n",
       "      <th>3</th>\n",
       "      <td>69965</td>\n",
       "      <td>Jeremy</td>\n",
       "      <td>Vang</td>\n",
       "      <td>Male</td>\n",
       "      <td>Texas</td>\n",
       "      <td>47</td>\n",
       "      <td>1</td>\n",
       "      <td>married</td>\n",
       "      <td>162432</td>\n",
       "      <td>3248623</td>\n",
       "      <td>...</td>\n",
       "      <td>Regularly Busy</td>\n",
       "      <td>Average Orders</td>\n",
       "      <td>15</td>\n",
       "      <td>Regular Customer</td>\n",
       "      <td>8.286667</td>\n",
       "      <td>Low Spender</td>\n",
       "      <td>South</td>\n",
       "      <td>Good Activity</td>\n",
       "      <td>Mid-Age Married Adult</td>\n",
       "      <td>Good-High Income/ One or More Dependants</td>\n",
       "    </tr>\n",
       "    <tr>\n",
       "      <th>4</th>\n",
       "      <td>69965</td>\n",
       "      <td>Jeremy</td>\n",
       "      <td>Vang</td>\n",
       "      <td>Male</td>\n",
       "      <td>Texas</td>\n",
       "      <td>47</td>\n",
       "      <td>1</td>\n",
       "      <td>married</td>\n",
       "      <td>162432</td>\n",
       "      <td>3248623</td>\n",
       "      <td>...</td>\n",
       "      <td>Regularly Busy</td>\n",
       "      <td>Average Orders</td>\n",
       "      <td>15</td>\n",
       "      <td>Regular Customer</td>\n",
       "      <td>8.286667</td>\n",
       "      <td>Low Spender</td>\n",
       "      <td>South</td>\n",
       "      <td>Good Activity</td>\n",
       "      <td>Mid-Age Married Adult</td>\n",
       "      <td>Good-High Income/ One or More Dependants</td>\n",
       "    </tr>\n",
       "  </tbody>\n",
       "</table>\n",
       "<p>5 rows × 28 columns</p>\n",
       "</div>"
      ],
      "text/plain": [
       "   user_id First Name Surnam  Gender     STATE  Age  n_dependants fam_status  \\\n",
       "0   133128    Cynthia  Noble  Female  Kentucky   43             2    married   \n",
       "1   133128    Cynthia  Noble  Female  Kentucky   43             2    married   \n",
       "2    69965     Jeremy   Vang    Male     Texas   47             1    married   \n",
       "3    69965     Jeremy   Vang    Male     Texas   47             1    married   \n",
       "4    69965     Jeremy   Vang    Male     Texas   47             1    married   \n",
       "\n",
       "   income  order_id  ...    busiest_days  busiest_period_of_day  max_order  \\\n",
       "0   49643   1723820  ...  Regularly Busy         Average Orders          7   \n",
       "1   49643   1723820  ...  Regularly Busy         Average Orders          7   \n",
       "2  162432    535198  ...    Busiest Days         Average Orders         15   \n",
       "3  162432   3248623  ...  Regularly Busy         Average Orders         15   \n",
       "4  162432   3248623  ...  Regularly Busy         Average Orders         15   \n",
       "\n",
       "       loyalty_flag avg_price  spending_flag  region       activity  \\\n",
       "0      New Customer  6.806667    Low Spender   South  Good Activity   \n",
       "1      New Customer  6.806667    Low Spender   South  Good Activity   \n",
       "2  Regular Customer  8.286667    Low Spender   South  Good Activity   \n",
       "3  Regular Customer  8.286667    Low Spender   South  Good Activity   \n",
       "4  Regular Customer  8.286667    Low Spender   South  Good Activity   \n",
       "\n",
       "         age_fam_profile                           income_dep_prof  \n",
       "0  Mid-Age Married Adult     Middle Income/ One or More Dependants  \n",
       "1  Mid-Age Married Adult     Middle Income/ One or More Dependants  \n",
       "2  Mid-Age Married Adult  Good-High Income/ One or More Dependants  \n",
       "3  Mid-Age Married Adult  Good-High Income/ One or More Dependants  \n",
       "4  Mid-Age Married Adult  Good-High Income/ One or More Dependants  \n",
       "\n",
       "[5 rows x 28 columns]"
      ]
     },
     "execution_count": 29,
     "metadata": {},
     "output_type": "execute_result"
    }
   ],
   "source": [
    "merged_df.head()"
   ]
  },
  {
   "cell_type": "code",
   "execution_count": 30,
   "id": "c2891f04",
   "metadata": {},
   "outputs": [],
   "source": [
    "#9. Produce suitable charts to illustrate your results and export them in your project folder.\n",
    "bar1.figure.savefig(os.path.join(path, '04 Analysis', 'Visualizations', 'bar1.png'))"
   ]
  },
  {
   "cell_type": "code",
   "execution_count": 31,
   "id": "a7bb4e7e",
   "metadata": {},
   "outputs": [],
   "source": [
    "bar2.figure.savefig(os.path.join(path, '04 Analysis', 'Visualizations', 'bar2.png'))"
   ]
  },
  {
   "cell_type": "code",
   "execution_count": 32,
   "id": "55ce5251",
   "metadata": {},
   "outputs": [],
   "source": [
    "bar3.figure.savefig(os.path.join(path, '04 Analysis', 'Visualizations', 'bar3.png'))"
   ]
  },
  {
   "cell_type": "code",
   "execution_count": 33,
   "id": "bf78a3de",
   "metadata": {},
   "outputs": [
    {
     "data": {
      "image/png": "[encoded data removed]",
      "text/plain": [
       "<Figure size 432x288 with 1 Axes>"
      ]
     },
     "metadata": {
      "needs_background": "light"
     },
     "output_type": "display_data"
    }
   ],
   "source": [
    "bar_subset1 = merged_df['loyalty_flag'].value_counts().plot.bar(color = 'grey')"
   ]
  },
  {
   "cell_type": "code",
   "execution_count": null,
   "id": "a76578a5",
   "metadata": {},
   "outputs": [],
   "source": [
    "bar_subset2 = merged_df['product_name'].value_counts().plot.bar()"
   ]
  },
  {
   "cell_type": "code",
   "execution_count": null,
   "id": "4522f402",
   "metadata": {},
   "outputs": [],
   "source": [
    "barsub3 = merged_df['income_dep_prof'].value_counts().plot.bar()"
   ]
  },
  {
   "cell_type": "code",
   "execution_count": 36,
   "id": "a5c9b514",
   "metadata": {},
   "outputs": [],
   "source": [
    "bar_subset1.figure.savefig(os.path.join(path, '04 Analysis', 'Visualizations', 'bar_sub1.png'))"
   ]
  },
  {
   "cell_type": "code",
   "execution_count": 37,
   "id": "c059538e",
   "metadata": {},
   "outputs": [],
   "source": [
    "bar_subset2.figure.savefig(os.path.join(path, '04 Analysis', 'Visualizations', 'bar_sub2.png'))"
   ]
  },
  {
   "cell_type": "code",
   "execution_count": 38,
   "id": "875ff1d8",
   "metadata": {},
   "outputs": [],
   "source": [
    "barsub3.figure.savefig(os.path.join(path, '04 Analysis', 'Visualizations', 'barsub3.png'))"
   ]
  }
 ],
 "metadata": {
  "kernelspec": {
   "display_name": "Python 3",
   "language": "python",
   "name": "python3"
  },
  "language_info": {
   "codemirror_mode": {
    "name": "ipython",
    "version": 3
   },
   "file_extension": ".py",
   "mimetype": "text/x-python",
   "name": "python",
   "nbconvert_exporter": "python",
   "pygments_lexer": "ipython3",
   "version": "3.8.8"
  }
 },
 "nbformat": 4,
 "nbformat_minor": 5
}
