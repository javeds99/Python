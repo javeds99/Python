{
 "cells": [
  {
   "cell_type": "code",
   "execution_count": 1,
   "id": "9e52693d",
   "metadata": {},
   "outputs": [],
   "source": [
    "import pandas as pd\n",
    "import numpy as np\n",
    "import os"
   ]
  },
  {
   "cell_type": "code",
   "execution_count": 2,
   "id": "613325fe",
   "metadata": {},
   "outputs": [],
   "source": [
    "path =  r'C:\\Users\\javed\\Instacart Basket Analysis'"
   ]
  },
  {
   "cell_type": "code",
   "execution_count": 3,
   "id": "296f0d74",
   "metadata": {},
   "outputs": [],
   "source": [
    "df = pd.read_pickle(os.path.join(path, '02 Data', 'Prepared Data', 'orders_products_merged.pkl'))"
   ]
  },
  {
   "cell_type": "code",
   "execution_count": 6,
   "id": "371531a8",
   "metadata": {},
   "outputs": [],
   "source": [
    "df1 = df.drop(columns = ['eval_set', '_merge', 'reordered', 'add_to_cart_order', 'aisle_id'])"
   ]
  },
  {
   "cell_type": "markdown",
   "id": "ddce09cd",
   "metadata": {},
   "source": [
    "# Steps 1-5"
   ]
  },
  {
   "cell_type": "code",
   "execution_count": 7,
   "id": "7fb67afb",
   "metadata": {},
   "outputs": [],
   "source": [
    "#1. Complete the instructions in the Exercise for creating the “price_label” and “busiest_day” columns.\n",
    "def price_label(row):\n",
    "    if row['prices'] <= 5:\n",
    "        return 'Low Range Product'\n",
    "    elif (row['prices'] > 5) and (row['prices'] <= 15) :\n",
    "        return 'Mid Range Product'\n",
    "    elif row['prices'] > 15 :\n",
    "        return 'High Range Product'\n",
    "    else : return 'Not Enough Data'"
   ]
  },
  {
   "cell_type": "code",
   "execution_count": null,
   "id": "f23de949",
   "metadata": {},
   "outputs": [],
   "source": [
    "#Applying price_range column.\n",
    "df1['price_range'] = df1.apply(price_label, axis = 1)"
   ]
  },
  {
   "cell_type": "code",
   "execution_count": 7,
   "id": "92005055",
   "metadata": {},
   "outputs": [
    {
     "data": {
      "text/plain": [
       "0    6204182\n",
       "1    5660230\n",
       "6    4496490\n",
       "2    4213830\n",
       "5    4205791\n",
       "3    3840534\n",
       "4    3783802\n",
       "Name: orders_day_of_week, dtype: int64"
      ]
     },
     "execution_count": 7,
     "metadata": {},
     "output_type": "execute_result"
    }
   ],
   "source": [
    "#Checking the days with the most to least orders.\n",
    "df['orders_day_of_week'].value_counts(dropna = False)"
   ]
  },
  {
   "cell_type": "code",
   "execution_count": 8,
   "id": "18f28a6e",
   "metadata": {},
   "outputs": [],
   "source": [
    "#2. Create a new column for busiest_days.\n",
    "def busiest_days(row):\n",
    "    if (row['orders_day_of_week'] >= 0) and (row['orders_day_of_week'] <= 1) :\n",
    "        return 'Busiest Days'\n",
    "    elif (row['orders_day_of_week'] >= 3) and (row['orders_day_of_week'] <= 4) :\n",
    "        return 'Least Busy Days'\n",
    "    else : return 'Regularly Busy'"
   ]
  },
  {
   "cell_type": "code",
   "execution_count": null,
   "id": "ec9d696b",
   "metadata": {},
   "outputs": [],
   "source": [
    "df1['busiest_days'] = df.apply(busiest_days, axis = 1)"
   ]
  },
  {
   "cell_type": "code",
   "execution_count": null,
   "id": "60bb7afd",
   "metadata": {},
   "outputs": [],
   "source": [
    "#3.Check the values of this new column for accuracy\n",
    "df1['busiest_days'].value_counts()"
   ]
  },
  {
   "cell_type": "code",
   "execution_count": 37,
   "id": "ac8cdd51",
   "metadata": {},
   "outputs": [
    {
     "data": {
      "text/plain": [
       "10    90492\n",
       "11    85835\n",
       "9     84211\n",
       "14    81965\n",
       "15    81388\n",
       "13    81377\n",
       "12    79248\n",
       "16    76499\n",
       "17    60697\n",
       "8     57772\n",
       "18    46755\n",
       "19    35989\n",
       "7     29181\n",
       "20    28213\n",
       "21    23796\n",
       "22    19103\n",
       "23    11911\n",
       "6      8827\n",
       "0      6451\n",
       "1      3163\n",
       "5      2552\n",
       "2      1865\n",
       "4      1427\n",
       "3      1283\n",
       "Name: order_hour_of_day, dtype: int64"
      ]
     },
     "execution_count": 37,
     "metadata": {},
     "output_type": "execute_result"
    }
   ],
   "source": [
    "#4. Create a new column containing these labels (average, most, and fewest orders) called “busiest_period_of_day.”\n",
    "df['order_hour_of_day'].value_counts()"
   ]
  },
  {
   "cell_type": "code",
   "execution_count": 38,
   "id": "39560d00",
   "metadata": {},
   "outputs": [],
   "source": [
    "def busiest_periods(row):\n",
    "    if (row['order_hour_of_day'] >= 9) and (row['order_hour_of_day'] <= 11) :\n",
    "        return 'Most Orders'\n",
    "    elif (row['order_hour_of_day'] >= 2) and (row['order_hour_of_day'] <= 4) :\n",
    "        return 'Fewest Orders'\n",
    "    else : return 'Average Orders'"
   ]
  },
  {
   "cell_type": "code",
   "execution_count": 39,
   "id": "45f685c0",
   "metadata": {},
   "outputs": [
    {
     "name": "stderr",
     "output_type": "stream",
     "text": [
      "<ipython-input-39-0daa6cdfa196>:1: SettingWithCopyWarning: \n",
      "A value is trying to be set on a copy of a slice from a DataFrame.\n",
      "Try using .loc[row_indexer,col_indexer] = value instead\n",
      "\n",
      "See the caveats in the documentation: https://pandas.pydata.org/pandas-docs/stable/user_guide/indexing.html#returning-a-view-versus-a-copy\n",
      "  df_1['busiest_period_of_day'] = df_1.apply(busiest_periods, axis=1)\n"
     ]
    }
   ],
   "source": [
    "df['busiest_period_of_day'] = df_1.apply(busiest_periods, axis=1)"
   ]
  },
  {
   "cell_type": "code",
   "execution_count": 21,
   "id": "0f64d322",
   "metadata": {},
   "outputs": [
    {
     "data": {
      "text/plain": [
       "Average Orders    734887\n",
       "Most Orders       260538\n",
       "Fewest Orders       4575\n",
       "Name: busiest_period_of_day, dtype: int64"
      ]
     },
     "execution_count": 21,
     "metadata": {},
     "output_type": "execute_result"
    }
   ],
   "source": [
    "#5. Print the frequency for the new column.\n",
    "df['busiest_period_of_day'].value_counts()"
   ]
  },
  {
   "cell_type": "code",
   "execution_count": 40,
   "id": "69c15b63",
   "metadata": {},
   "outputs": [],
   "source": [
    "df.to_pickle(os.path.join(path, '02 Data', 'Prepared Data', 'ords_prods_added_cols.pkl'))"
   ]
  },
  {
   "cell_type": "code",
   "execution_count": null,
   "id": "3ded0ca2",
   "metadata": {},
   "outputs": [],
   "source": []
  }
 ],
 "metadata": {
  "kernelspec": {
   "display_name": "Python 3",
   "language": "python",
   "name": "python3"
  },
  "language_info": {
   "codemirror_mode": {
    "name": "ipython",
    "version": 3
   },
   "file_extension": ".py",
   "mimetype": "text/x-python",
   "name": "python",
   "nbconvert_exporter": "python",
   "pygments_lexer": "ipython3",
   "version": "3.8.8"
  }
 },
 "nbformat": 4,
 "nbformat_minor": 5
}
