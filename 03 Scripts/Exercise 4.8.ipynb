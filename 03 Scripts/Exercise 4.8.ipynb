{
 "cells": [
  {
   "cell_type": "code",
   "execution_count": 1,
   "id": "e739dd9c",
   "metadata": {},
   "outputs": [],
   "source": [
    "import pandas as pd\n",
    "import numpy as np\n",
    "import os"
   ]
  },
  {
   "cell_type": "code",
   "execution_count": 2,
   "id": "56c3c61c",
   "metadata": {},
   "outputs": [],
   "source": [
    "path = r'C:\\Users\\javed\\instacart Basket Analysis'"
   ]
  },
  {
   "cell_type": "code",
   "execution_count": 3,
   "id": "0fb81f46",
   "metadata": {},
   "outputs": [],
   "source": [
    "ords_prods_merged = pd.read_pickle(os.path.join(path, '02 Data', 'Prepared Data', 'ords_prods_added_cols.pkl'))"
   ]
  },
  {
   "cell_type": "code",
   "execution_count": 4,
   "id": "136965b3",
   "metadata": {},
   "outputs": [
    {
     "data": {
      "text/html": [
       "<div>\n",
       "<style scoped>\n",
       "    .dataframe tbody tr th:only-of-type {\n",
       "        vertical-align: middle;\n",
       "    }\n",
       "\n",
       "    .dataframe tbody tr th {\n",
       "        vertical-align: top;\n",
       "    }\n",
       "\n",
       "    .dataframe thead tr th {\n",
       "        text-align: left;\n",
       "    }\n",
       "\n",
       "    .dataframe thead tr:last-of-type th {\n",
       "        text-align: right;\n",
       "    }\n",
       "</style>\n",
       "<table border=\"1\" class=\"dataframe\">\n",
       "  <thead>\n",
       "    <tr>\n",
       "      <th></th>\n",
       "      <th>order_number</th>\n",
       "    </tr>\n",
       "    <tr>\n",
       "      <th></th>\n",
       "      <th>mean</th>\n",
       "    </tr>\n",
       "    <tr>\n",
       "      <th>department_id</th>\n",
       "      <th></th>\n",
       "    </tr>\n",
       "  </thead>\n",
       "  <tbody>\n",
       "    <tr>\n",
       "      <th>4</th>\n",
       "      <td>18.825780</td>\n",
       "    </tr>\n",
       "    <tr>\n",
       "      <th>7</th>\n",
       "      <td>17.472355</td>\n",
       "    </tr>\n",
       "    <tr>\n",
       "      <th>13</th>\n",
       "      <td>17.993423</td>\n",
       "    </tr>\n",
       "    <tr>\n",
       "      <th>14</th>\n",
       "      <td>19.246334</td>\n",
       "    </tr>\n",
       "    <tr>\n",
       "      <th>16</th>\n",
       "      <td>19.463012</td>\n",
       "    </tr>\n",
       "    <tr>\n",
       "      <th>17</th>\n",
       "      <td>11.294069</td>\n",
       "    </tr>\n",
       "    <tr>\n",
       "      <th>19</th>\n",
       "      <td>19.305237</td>\n",
       "    </tr>\n",
       "    <tr>\n",
       "      <th>20</th>\n",
       "      <td>17.599636</td>\n",
       "    </tr>\n",
       "  </tbody>\n",
       "</table>\n",
       "</div>"
      ],
      "text/plain": [
       "              order_number\n",
       "                      mean\n",
       "department_id             \n",
       "4                18.825780\n",
       "7                17.472355\n",
       "13               17.993423\n",
       "14               19.246334\n",
       "16               19.463012\n",
       "17               11.294069\n",
       "19               19.305237\n",
       "20               17.599636"
      ]
     },
     "execution_count": 4,
     "metadata": {},
     "output_type": "execute_result"
    }
   ],
   "source": [
    "#2. Find the aggregated mean of the “order_number” column grouped by “department_id”.\n",
    "ords_prods_merged.groupby('department_id').agg({'order_number' : ['mean']})"
   ]
  },
  {
   "cell_type": "markdown",
   "id": "dea6793f",
   "metadata": {},
   "source": [
    "3. How do the results for the entire dataframe differ from those of the subset? \n",
    "- The results are the same as the subset."
   ]
  },
  {
   "cell_type": "code",
   "execution_count": 5,
   "id": "743ccdf6",
   "metadata": {},
   "outputs": [],
   "source": [
    "#4. Create a loyalty flag for existing customers using the transform() and loc() functions.\n",
    "ords_prods_merged['max_order'] = ords_prods_merged.groupby(['user_id'])['order_number'].transform(np.max)"
   ]
  },
  {
   "cell_type": "code",
   "execution_count": 6,
   "id": "3972c204",
   "metadata": {},
   "outputs": [],
   "source": [
    "ords_prods_merged.loc[ords_prods_merged['max_order'] > 40, 'loyalty_flag'] = 'Loyal Customer'\n",
    "ords_prods_merged.loc[ords_prods_merged['max_order'] <= 40, 'loyalty_flag'] = 'Regular Customer'\n",
    "ords_prods_merged.loc[ords_prods_merged['max_order'] <= 10, 'loyalty_flag'] = 'New Customer'"
   ]
  },
  {
   "cell_type": "code",
   "execution_count": 7,
   "id": "57a0f919",
   "metadata": {},
   "outputs": [
    {
     "data": {
      "text/plain": [
       "Regular Customer    463844\n",
       "Loyal Customer      335086\n",
       "New Customer        201070\n",
       "Name: loyalty_flag, dtype: int64"
      ]
     },
     "execution_count": 7,
     "metadata": {},
     "output_type": "execute_result"
    }
   ],
   "source": [
    "ords_prods_merged['loyalty_flag'].value_counts()"
   ]
  },
  {
   "cell_type": "code",
   "execution_count": 10,
   "id": "6562570e",
   "metadata": {},
   "outputs": [
    {
     "data": {
      "text/html": [
       "<div>\n",
       "<style scoped>\n",
       "    .dataframe tbody tr th:only-of-type {\n",
       "        vertical-align: middle;\n",
       "    }\n",
       "\n",
       "    .dataframe tbody tr th {\n",
       "        vertical-align: top;\n",
       "    }\n",
       "\n",
       "    .dataframe thead tr th {\n",
       "        text-align: left;\n",
       "    }\n",
       "\n",
       "    .dataframe thead tr:last-of-type th {\n",
       "        text-align: right;\n",
       "    }\n",
       "</style>\n",
       "<table border=\"1\" class=\"dataframe\">\n",
       "  <thead>\n",
       "    <tr>\n",
       "      <th></th>\n",
       "      <th>prices</th>\n",
       "    </tr>\n",
       "    <tr>\n",
       "      <th></th>\n",
       "      <th>mean</th>\n",
       "    </tr>\n",
       "    <tr>\n",
       "      <th>loyalty_flag</th>\n",
       "      <th></th>\n",
       "    </tr>\n",
       "  </thead>\n",
       "  <tbody>\n",
       "    <tr>\n",
       "      <th>Loyal Customer</th>\n",
       "      <td>7.897711</td>\n",
       "    </tr>\n",
       "    <tr>\n",
       "      <th>New Customer</th>\n",
       "      <td>7.738627</td>\n",
       "    </tr>\n",
       "    <tr>\n",
       "      <th>Regular Customer</th>\n",
       "      <td>7.798050</td>\n",
       "    </tr>\n",
       "  </tbody>\n",
       "</table>\n",
       "</div>"
      ],
      "text/plain": [
       "                    prices\n",
       "                      mean\n",
       "loyalty_flag              \n",
       "Loyal Customer    7.897711\n",
       "New Customer      7.738627\n",
       "Regular Customer  7.798050"
      ]
     },
     "execution_count": 10,
     "metadata": {},
     "output_type": "execute_result"
    }
   ],
   "source": [
    "#5. Determine whether the prices of products purchased by loyal customers differ from those purchased by regular/new customers.\n",
    "ords_prods_merged.groupby('loyalty_flag').agg({'prices' : ['mean']})"
   ]
  },
  {
   "cell_type": "code",
   "execution_count": 12,
   "id": "92a58583",
   "metadata": {},
   "outputs": [],
   "source": [
    "#6. Create a spending flag for each user based on the average price across all their orders.\n",
    "ords_prods_merged['avg_price'] = ords_prods_merged.groupby(['user_id'])['prices'].transform(np.mean)"
   ]
  },
  {
   "cell_type": "code",
   "execution_count": 14,
   "id": "c9248fa7",
   "metadata": {},
   "outputs": [],
   "source": [
    "ords_prods_merged.loc[ords_prods_merged['avg_price'] < 10, 'spending_flag'] = 'Low Spender'\n",
    "ords_prods_merged.loc[ords_prods_merged['avg_price'] >= 10, 'spending_flag'] = 'High Spender'"
   ]
  },
  {
   "cell_type": "code",
   "execution_count": 15,
   "id": "af82b801",
   "metadata": {},
   "outputs": [
    {
     "data": {
      "text/plain": [
       "Low Spender     760344\n",
       "High Spender    239656\n",
       "Name: spending_flag, dtype: int64"
      ]
     },
     "execution_count": 15,
     "metadata": {},
     "output_type": "execute_result"
    }
   ],
   "source": [
    "ords_prods_merged['spending_flag'].value_counts()"
   ]
  },
  {
   "cell_type": "code",
   "execution_count": 17,
   "id": "43bcf9ef",
   "metadata": {},
   "outputs": [],
   "source": [
    "ords_prods_merged.to_pickle(os.path.join(path, '02 Data', 'Prepared Data', 'ex8.pkl'))"
   ]
  },
  {
   "cell_type": "code",
   "execution_count": null,
   "id": "25f44c7c",
   "metadata": {},
   "outputs": [],
   "source": []
  }
 ],
 "metadata": {
  "kernelspec": {
   "display_name": "Python 3",
   "language": "python",
   "name": "python3"
  },
  "language_info": {
   "codemirror_mode": {
    "name": "ipython",
    "version": 3
   },
   "file_extension": ".py",
   "mimetype": "text/x-python",
   "name": "python",
   "nbconvert_exporter": "python",
   "pygments_lexer": "ipython3",
   "version": "3.8.8"
  }
 },
 "nbformat": 4,
 "nbformat_minor": 5
}
