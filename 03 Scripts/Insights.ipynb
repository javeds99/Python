{
 "cells": [
  {
   "cell_type": "code",
   "execution_count": 1,
   "id": "e2009968",
   "metadata": {},
   "outputs": [],
   "source": [
    "#Importing Libraries\n",
    "import pandas as pd\n",
    "import numpy as np\n",
    "import os\n",
    "import seaborn as sns\n",
    "import scipy\n",
    "import matplotlib.pyplot as plt"
   ]
  },
  {
   "cell_type": "code",
   "execution_count": 2,
   "id": "d2322cf9",
   "metadata": {},
   "outputs": [],
   "source": [
    "path = r'C:\\Users\\javed\\instacart Basket Analysis'"
   ]
  },
  {
   "cell_type": "code",
   "execution_count": 3,
   "id": "d9a58a00",
   "metadata": {},
   "outputs": [],
   "source": [
    "df = pd.read_pickle(os.path.join(path, '02 Data', 'Prepared Data', 'merged_data.pkl'))"
   ]
  },
  {
   "cell_type": "code",
   "execution_count": 5,
   "id": "85d3cacc",
   "metadata": {
    "scrolled": true
   },
   "outputs": [
    {
     "name": "stdout",
     "output_type": "stream",
     "text": [
      "<class 'pandas.core.frame.DataFrame'>\n",
      "Int64Index: 1000000 entries, 0 to 999999\n",
      "Data columns (total 30 columns):\n",
      " #   Column                 Non-Null Count    Dtype   \n",
      "---  ------                 --------------    -----   \n",
      " 0   user_id                1000000 non-null  int64   \n",
      " 1   First Name             945182 non-null   object  \n",
      " 2   Surnam                 1000000 non-null  object  \n",
      " 3   Gender                 1000000 non-null  object  \n",
      " 4   STATE                  1000000 non-null  object  \n",
      " 5   Age                    1000000 non-null  int64   \n",
      " 6   date_joined            1000000 non-null  object  \n",
      " 7   n_dependants           1000000 non-null  int64   \n",
      " 8   fam_status             1000000 non-null  object  \n",
      " 9   income                 1000000 non-null  int64   \n",
      " 10  order_id               1000000 non-null  int64   \n",
      " 11  eval_set               1000000 non-null  object  \n",
      " 12  order_number           1000000 non-null  int64   \n",
      " 13  orders_day_of_week     1000000 non-null  int64   \n",
      " 14  order_hour_of_day      1000000 non-null  int64   \n",
      " 15  product_id             1000000 non-null  int64   \n",
      " 16  add_to_cart_order      1000000 non-null  int64   \n",
      " 17  reordered              1000000 non-null  int64   \n",
      " 18  _merge                 1000000 non-null  category\n",
      " 19  product_name           1000000 non-null  object  \n",
      " 20  aisle_id               1000000 non-null  int64   \n",
      " 21  department_id          1000000 non-null  int64   \n",
      " 22  prices                 1000000 non-null  float64 \n",
      " 23  price_range            1000000 non-null  object  \n",
      " 24  busiest_days           1000000 non-null  object  \n",
      " 25  busiest_period_of_day  1000000 non-null  object  \n",
      " 26  max_order              1000000 non-null  int64   \n",
      " 27  loyalty_flag           1000000 non-null  object  \n",
      " 28  avg_price              1000000 non-null  float64 \n",
      " 29  spending_flag          1000000 non-null  object  \n",
      "dtypes: category(1), float64(2), int64(14), object(13)\n",
      "memory usage: 229.8+ MB\n"
     ]
    }
   ],
   "source": [
    "df.info()"
   ]
  },
  {
   "cell_type": "code",
   "execution_count": 9,
   "id": "21acee12",
   "metadata": {},
   "outputs": [],
   "source": [
    "dff = df.drop(columns = ['eval_set', 'add_to_cart_order', '_merge', 'aisle_id', 'reordered'])"
   ]
  },
  {
   "cell_type": "code",
   "execution_count": 10,
   "id": "5f2b6ecb",
   "metadata": {},
   "outputs": [
    {
     "data": {
      "text/html": [
       "<div>\n",
       "<style scoped>\n",
       "    .dataframe tbody tr th:only-of-type {\n",
       "        vertical-align: middle;\n",
       "    }\n",
       "\n",
       "    .dataframe tbody tr th {\n",
       "        vertical-align: top;\n",
       "    }\n",
       "\n",
       "    .dataframe thead th {\n",
       "        text-align: right;\n",
       "    }\n",
       "</style>\n",
       "<table border=\"1\" class=\"dataframe\">\n",
       "  <thead>\n",
       "    <tr style=\"text-align: right;\">\n",
       "      <th></th>\n",
       "      <th>user_id</th>\n",
       "      <th>First Name</th>\n",
       "      <th>Surnam</th>\n",
       "      <th>Gender</th>\n",
       "      <th>STATE</th>\n",
       "      <th>Age</th>\n",
       "      <th>date_joined</th>\n",
       "      <th>n_dependants</th>\n",
       "      <th>fam_status</th>\n",
       "      <th>income</th>\n",
       "      <th>...</th>\n",
       "      <th>product_name</th>\n",
       "      <th>department_id</th>\n",
       "      <th>prices</th>\n",
       "      <th>price_range</th>\n",
       "      <th>busiest_days</th>\n",
       "      <th>busiest_period_of_day</th>\n",
       "      <th>max_order</th>\n",
       "      <th>loyalty_flag</th>\n",
       "      <th>avg_price</th>\n",
       "      <th>spending_flag</th>\n",
       "    </tr>\n",
       "  </thead>\n",
       "  <tbody>\n",
       "    <tr>\n",
       "      <th>0</th>\n",
       "      <td>26711</td>\n",
       "      <td>Deborah</td>\n",
       "      <td>Esquivel</td>\n",
       "      <td>Female</td>\n",
       "      <td>Missouri</td>\n",
       "      <td>48</td>\n",
       "      <td>1/1/2017</td>\n",
       "      <td>3</td>\n",
       "      <td>married</td>\n",
       "      <td>165665</td>\n",
       "      <td>...</td>\n",
       "      <td>Soda</td>\n",
       "      <td>7</td>\n",
       "      <td>9.0</td>\n",
       "      <td>Mid Range Product</td>\n",
       "      <td>Busiest Days</td>\n",
       "      <td>Most Orders</td>\n",
       "      <td>8</td>\n",
       "      <td>New Customer</td>\n",
       "      <td>11.4</td>\n",
       "      <td>High Spender</td>\n",
       "    </tr>\n",
       "    <tr>\n",
       "      <th>1</th>\n",
       "      <td>26711</td>\n",
       "      <td>Deborah</td>\n",
       "      <td>Esquivel</td>\n",
       "      <td>Female</td>\n",
       "      <td>Missouri</td>\n",
       "      <td>48</td>\n",
       "      <td>1/1/2017</td>\n",
       "      <td>3</td>\n",
       "      <td>married</td>\n",
       "      <td>165665</td>\n",
       "      <td>...</td>\n",
       "      <td>Soda</td>\n",
       "      <td>7</td>\n",
       "      <td>9.0</td>\n",
       "      <td>Mid Range Product</td>\n",
       "      <td>Regularly Busy</td>\n",
       "      <td>Average Orders</td>\n",
       "      <td>8</td>\n",
       "      <td>New Customer</td>\n",
       "      <td>11.4</td>\n",
       "      <td>High Spender</td>\n",
       "    </tr>\n",
       "    <tr>\n",
       "      <th>2</th>\n",
       "      <td>26711</td>\n",
       "      <td>Deborah</td>\n",
       "      <td>Esquivel</td>\n",
       "      <td>Female</td>\n",
       "      <td>Missouri</td>\n",
       "      <td>48</td>\n",
       "      <td>1/1/2017</td>\n",
       "      <td>3</td>\n",
       "      <td>married</td>\n",
       "      <td>165665</td>\n",
       "      <td>...</td>\n",
       "      <td>Soda</td>\n",
       "      <td>7</td>\n",
       "      <td>9.0</td>\n",
       "      <td>Mid Range Product</td>\n",
       "      <td>Busiest Days</td>\n",
       "      <td>Average Orders</td>\n",
       "      <td>8</td>\n",
       "      <td>New Customer</td>\n",
       "      <td>11.4</td>\n",
       "      <td>High Spender</td>\n",
       "    </tr>\n",
       "    <tr>\n",
       "      <th>3</th>\n",
       "      <td>26711</td>\n",
       "      <td>Deborah</td>\n",
       "      <td>Esquivel</td>\n",
       "      <td>Female</td>\n",
       "      <td>Missouri</td>\n",
       "      <td>48</td>\n",
       "      <td>1/1/2017</td>\n",
       "      <td>3</td>\n",
       "      <td>married</td>\n",
       "      <td>165665</td>\n",
       "      <td>...</td>\n",
       "      <td>0% Greek Strained Yogurt</td>\n",
       "      <td>16</td>\n",
       "      <td>12.6</td>\n",
       "      <td>Mid Range Product</td>\n",
       "      <td>Regularly Busy</td>\n",
       "      <td>Most Orders</td>\n",
       "      <td>8</td>\n",
       "      <td>New Customer</td>\n",
       "      <td>11.4</td>\n",
       "      <td>High Spender</td>\n",
       "    </tr>\n",
       "    <tr>\n",
       "      <th>4</th>\n",
       "      <td>26711</td>\n",
       "      <td>Deborah</td>\n",
       "      <td>Esquivel</td>\n",
       "      <td>Female</td>\n",
       "      <td>Missouri</td>\n",
       "      <td>48</td>\n",
       "      <td>1/1/2017</td>\n",
       "      <td>3</td>\n",
       "      <td>married</td>\n",
       "      <td>165665</td>\n",
       "      <td>...</td>\n",
       "      <td>0% Greek Strained Yogurt</td>\n",
       "      <td>16</td>\n",
       "      <td>12.6</td>\n",
       "      <td>Mid Range Product</td>\n",
       "      <td>Least Busy Days</td>\n",
       "      <td>Most Orders</td>\n",
       "      <td>8</td>\n",
       "      <td>New Customer</td>\n",
       "      <td>11.4</td>\n",
       "      <td>High Spender</td>\n",
       "    </tr>\n",
       "  </tbody>\n",
       "</table>\n",
       "<p>5 rows × 25 columns</p>\n",
       "</div>"
      ],
      "text/plain": [
       "   user_id First Name    Surnam  Gender     STATE  Age date_joined  \\\n",
       "0    26711    Deborah  Esquivel  Female  Missouri   48    1/1/2017   \n",
       "1    26711    Deborah  Esquivel  Female  Missouri   48    1/1/2017   \n",
       "2    26711    Deborah  Esquivel  Female  Missouri   48    1/1/2017   \n",
       "3    26711    Deborah  Esquivel  Female  Missouri   48    1/1/2017   \n",
       "4    26711    Deborah  Esquivel  Female  Missouri   48    1/1/2017   \n",
       "\n",
       "   n_dependants fam_status  income  ...              product_name  \\\n",
       "0             3    married  165665  ...                      Soda   \n",
       "1             3    married  165665  ...                      Soda   \n",
       "2             3    married  165665  ...                      Soda   \n",
       "3             3    married  165665  ...  0% Greek Strained Yogurt   \n",
       "4             3    married  165665  ...  0% Greek Strained Yogurt   \n",
       "\n",
       "   department_id  prices        price_range     busiest_days  \\\n",
       "0              7     9.0  Mid Range Product     Busiest Days   \n",
       "1              7     9.0  Mid Range Product   Regularly Busy   \n",
       "2              7     9.0  Mid Range Product     Busiest Days   \n",
       "3             16    12.6  Mid Range Product   Regularly Busy   \n",
       "4             16    12.6  Mid Range Product  Least Busy Days   \n",
       "\n",
       "  busiest_period_of_day  max_order  loyalty_flag avg_price spending_flag  \n",
       "0           Most Orders          8  New Customer      11.4  High Spender  \n",
       "1        Average Orders          8  New Customer      11.4  High Spender  \n",
       "2        Average Orders          8  New Customer      11.4  High Spender  \n",
       "3           Most Orders          8  New Customer      11.4  High Spender  \n",
       "4           Most Orders          8  New Customer      11.4  High Spender  \n",
       "\n",
       "[5 rows x 25 columns]"
      ]
     },
     "execution_count": 10,
     "metadata": {},
     "output_type": "execute_result"
    }
   ],
   "source": [
    "dff.head()"
   ]
  },
  {
   "cell_type": "code",
   "execution_count": 11,
   "id": "b136a45f",
   "metadata": {},
   "outputs": [
    {
     "name": "stdout",
     "output_type": "stream",
     "text": [
      "<class 'pandas.core.frame.DataFrame'>\n",
      "Int64Index: 1000000 entries, 0 to 999999\n",
      "Data columns (total 25 columns):\n",
      " #   Column                 Non-Null Count    Dtype  \n",
      "---  ------                 --------------    -----  \n",
      " 0   user_id                1000000 non-null  int64  \n",
      " 1   First Name             945182 non-null   object \n",
      " 2   Surnam                 1000000 non-null  object \n",
      " 3   Gender                 1000000 non-null  object \n",
      " 4   STATE                  1000000 non-null  object \n",
      " 5   Age                    1000000 non-null  int64  \n",
      " 6   date_joined            1000000 non-null  object \n",
      " 7   n_dependants           1000000 non-null  int64  \n",
      " 8   fam_status             1000000 non-null  object \n",
      " 9   income                 1000000 non-null  int64  \n",
      " 10  order_id               1000000 non-null  int64  \n",
      " 11  order_number           1000000 non-null  int64  \n",
      " 12  orders_day_of_week     1000000 non-null  int64  \n",
      " 13  order_hour_of_day      1000000 non-null  int64  \n",
      " 14  product_id             1000000 non-null  int64  \n",
      " 15  product_name           1000000 non-null  object \n",
      " 16  department_id          1000000 non-null  int64  \n",
      " 17  prices                 1000000 non-null  float64\n",
      " 18  price_range            1000000 non-null  object \n",
      " 19  busiest_days           1000000 non-null  object \n",
      " 20  busiest_period_of_day  1000000 non-null  object \n",
      " 21  max_order              1000000 non-null  int64  \n",
      " 22  loyalty_flag           1000000 non-null  object \n",
      " 23  avg_price              1000000 non-null  float64\n",
      " 24  spending_flag          1000000 non-null  object \n",
      "dtypes: float64(2), int64(11), object(12)\n",
      "memory usage: 198.4+ MB\n"
     ]
    }
   ],
   "source": [
    "dff.info()"
   ]
  },
  {
   "cell_type": "code",
   "execution_count": 12,
   "id": "86af7d77",
   "metadata": {},
   "outputs": [
    {
     "data": {
      "text/plain": [
       "Low Spender     760344\n",
       "High Spender    239656\n",
       "Name: spending_flag, dtype: int64"
      ]
     },
     "execution_count": 12,
     "metadata": {},
     "output_type": "execute_result"
    }
   ],
   "source": [
    "dff['spending_flag'].value_counts(dropna = False)"
   ]
  },
  {
   "cell_type": "code",
   "execution_count": 13,
   "id": "7219a3ee",
   "metadata": {},
   "outputs": [
    {
     "data": {
      "text/plain": [
       "Regular Customer    463844\n",
       "Loyal Customer      335086\n",
       "New Customer        201070\n",
       "Name: loyalty_flag, dtype: int64"
      ]
     },
     "execution_count": 13,
     "metadata": {},
     "output_type": "execute_result"
    }
   ],
   "source": [
    "dff['loyalty_flag'].value_counts(dropna = False)"
   ]
  },
  {
   "cell_type": "code",
   "execution_count": 14,
   "id": "6a05e2bb",
   "metadata": {},
   "outputs": [
    {
     "data": {
      "text/plain": [
       "married                             702411\n",
       "single                              164028\n",
       "divorced/widowed                     85685\n",
       "living with parents and siblings     47876\n",
       "Name: fam_status, dtype: int64"
      ]
     },
     "execution_count": 14,
     "metadata": {},
     "output_type": "execute_result"
    }
   ],
   "source": [
    "dff['fam_status'].value_counts(dropna = False)"
   ]
  },
  {
   "cell_type": "code",
   "execution_count": 15,
   "id": "b810fac3",
   "metadata": {},
   "outputs": [
    {
     "data": {
      "text/plain": [
       "2    251552\n",
       "3    251305\n",
       "0    249713\n",
       "1    247430\n",
       "Name: n_dependants, dtype: int64"
      ]
     },
     "execution_count": 15,
     "metadata": {},
     "output_type": "execute_result"
    }
   ],
   "source": [
    "dff['n_dependants'].value_counts(dropna = False)"
   ]
  },
  {
   "cell_type": "code",
   "execution_count": 16,
   "id": "c9268d4d",
   "metadata": {},
   "outputs": [
    {
     "data": {
      "text/plain": [
       "Bag of Organic Bananas                      379450\n",
       "Organic Avocado                             176815\n",
       "Organic Half & Half                          76360\n",
       "Organic Unsweetened Almond Milk              57895\n",
       "Original Hummus                              57198\n",
       "Uncured Genoa Salami                         41473\n",
       "Soda                                         35791\n",
       "Bartlett Pears                               35413\n",
       "Creamy Almond Butter                         21490\n",
       "Organic Unsweetened Vanilla Almond Milk      15935\n",
       "Honeycrisp Apples                            13880\n",
       "0% Greek Strained Yogurt                     13238\n",
       "Cheddar Bunnies Snack Crackers               10557\n",
       "Roasted Turkey                               10195\n",
       "Zero Calorie Cola                             8558\n",
       "Plantain Chips                                7192\n",
       "Original Beef Jerky                           6476\n",
       "Organic String Cheese                         6196\n",
       "Organic Fuji Apples                           5526\n",
       "Milk Chocolate Almonds                        5019\n",
       "Cinnamon Toast Crunch                         3751\n",
       "Thin Stackers Brown Rice Lightly Salted       3012\n",
       "Aged White Cheddar Popcorn                    2523\n",
       "Pistachios                                    1946\n",
       "Chipotle Beef & Pork Realstick                1370\n",
       "XL Pick-A-Size Paper Towel Rolls              1214\n",
       "Baked Organic Sea Salt Crunchy Pea Snack      1166\n",
       "Organic Just Concord Grape Juice               361\n",
       "Name: product_name, dtype: int64"
      ]
     },
     "execution_count": 16,
     "metadata": {},
     "output_type": "execute_result"
    }
   ],
   "source": [
    "dff['product_name'].value_counts(dropna = False)"
   ]
  },
  {
   "cell_type": "code",
   "execution_count": 17,
   "id": "a960c0da",
   "metadata": {},
   "outputs": [
    {
     "data": {
      "text/plain": [
       "Male      502845\n",
       "Female    497155\n",
       "Name: Gender, dtype: int64"
      ]
     },
     "execution_count": 17,
     "metadata": {},
     "output_type": "execute_result"
    }
   ],
   "source": [
    "dff['Gender'].value_counts(dropna = False)"
   ]
  },
  {
   "cell_type": "code",
   "execution_count": 24,
   "id": "fa579987",
   "metadata": {},
   "outputs": [
    {
     "data": {
      "text/html": [
       "<div>\n",
       "<style scoped>\n",
       "    .dataframe tbody tr th:only-of-type {\n",
       "        vertical-align: middle;\n",
       "    }\n",
       "\n",
       "    .dataframe tbody tr th {\n",
       "        vertical-align: top;\n",
       "    }\n",
       "\n",
       "    .dataframe thead tr th {\n",
       "        text-align: left;\n",
       "    }\n",
       "\n",
       "    .dataframe thead tr:last-of-type th {\n",
       "        text-align: right;\n",
       "    }\n",
       "</style>\n",
       "<table border=\"1\" class=\"dataframe\">\n",
       "  <thead>\n",
       "    <tr>\n",
       "      <th></th>\n",
       "      <th colspan=\"2\" halign=\"left\">prices</th>\n",
       "    </tr>\n",
       "    <tr>\n",
       "      <th></th>\n",
       "      <th>mean</th>\n",
       "      <th>max</th>\n",
       "    </tr>\n",
       "    <tr>\n",
       "      <th>loyalty_flag</th>\n",
       "      <th></th>\n",
       "      <th></th>\n",
       "    </tr>\n",
       "  </thead>\n",
       "  <tbody>\n",
       "    <tr>\n",
       "      <th>Loyal Customer</th>\n",
       "      <td>7.897711</td>\n",
       "      <td>14.8</td>\n",
       "    </tr>\n",
       "    <tr>\n",
       "      <th>New Customer</th>\n",
       "      <td>7.738627</td>\n",
       "      <td>14.8</td>\n",
       "    </tr>\n",
       "    <tr>\n",
       "      <th>Regular Customer</th>\n",
       "      <td>7.798050</td>\n",
       "      <td>14.8</td>\n",
       "    </tr>\n",
       "  </tbody>\n",
       "</table>\n",
       "</div>"
      ],
      "text/plain": [
       "                    prices      \n",
       "                      mean   max\n",
       "loyalty_flag                    \n",
       "Loyal Customer    7.897711  14.8\n",
       "New Customer      7.738627  14.8\n",
       "Regular Customer  7.798050  14.8"
      ]
     },
     "execution_count": 24,
     "metadata": {},
     "output_type": "execute_result"
    }
   ],
   "source": [
    "dff.groupby('loyalty_flag').agg({'prices' : ['mean', 'max']})"
   ]
  },
  {
   "cell_type": "code",
   "execution_count": 26,
   "id": "44858eb3",
   "metadata": {},
   "outputs": [
    {
     "data": {
      "text/plain": [
       "Male      502845\n",
       "Female    497155\n",
       "Name: Gender, dtype: int64"
      ]
     },
     "execution_count": 26,
     "metadata": {},
     "output_type": "execute_result"
    }
   ],
   "source": [
    "dff['Gender'].value_counts(dropna = False)"
   ]
  },
  {
   "cell_type": "code",
   "execution_count": 31,
   "id": "ec1b4b1a",
   "metadata": {},
   "outputs": [
    {
     "data": {
      "text/html": [
       "<div>\n",
       "<style scoped>\n",
       "    .dataframe tbody tr th:only-of-type {\n",
       "        vertical-align: middle;\n",
       "    }\n",
       "\n",
       "    .dataframe tbody tr th {\n",
       "        vertical-align: top;\n",
       "    }\n",
       "\n",
       "    .dataframe thead tr th {\n",
       "        text-align: left;\n",
       "    }\n",
       "\n",
       "    .dataframe thead tr:last-of-type th {\n",
       "        text-align: right;\n",
       "    }\n",
       "</style>\n",
       "<table border=\"1\" class=\"dataframe\">\n",
       "  <thead>\n",
       "    <tr>\n",
       "      <th></th>\n",
       "      <th>max_order</th>\n",
       "    </tr>\n",
       "    <tr>\n",
       "      <th></th>\n",
       "      <th>mean</th>\n",
       "    </tr>\n",
       "    <tr>\n",
       "      <th>fam_status</th>\n",
       "      <th></th>\n",
       "    </tr>\n",
       "  </thead>\n",
       "  <tbody>\n",
       "    <tr>\n",
       "      <th>divorced/widowed</th>\n",
       "      <td>34.434347</td>\n",
       "    </tr>\n",
       "    <tr>\n",
       "      <th>living with parents and siblings</th>\n",
       "      <td>34.428733</td>\n",
       "    </tr>\n",
       "    <tr>\n",
       "      <th>married</th>\n",
       "      <td>33.619540</td>\n",
       "    </tr>\n",
       "    <tr>\n",
       "      <th>single</th>\n",
       "      <td>33.620376</td>\n",
       "    </tr>\n",
       "  </tbody>\n",
       "</table>\n",
       "</div>"
      ],
      "text/plain": [
       "                                  max_order\n",
       "                                       mean\n",
       "fam_status                                 \n",
       "divorced/widowed                  34.434347\n",
       "living with parents and siblings  34.428733\n",
       "married                           33.619540\n",
       "single                            33.620376"
      ]
     },
     "execution_count": 31,
     "metadata": {},
     "output_type": "execute_result"
    }
   ],
   "source": [
    "dff.groupby('fam_status').agg({'max_order' : ['mean']})"
   ]
  },
  {
   "cell_type": "code",
   "execution_count": 32,
   "id": "62adc2c2",
   "metadata": {},
   "outputs": [
    {
     "data": {
      "text/plain": [
       "Mid Range Product    756450\n",
       "Low Range Product    243550\n",
       "Name: price_range, dtype: int64"
      ]
     },
     "execution_count": 32,
     "metadata": {},
     "output_type": "execute_result"
    }
   ],
   "source": [
    "dff['price_range'].value_counts(dropna = False)"
   ]
  },
  {
   "cell_type": "code",
   "execution_count": 33,
   "id": "0ca5e5c8",
   "metadata": {},
   "outputs": [],
   "source": [
    "dff.to_pickle(os.path.join(path, '02 Data', 'Prepared Data', 'final.pkl'))"
   ]
  },
  {
   "cell_type": "code",
   "execution_count": null,
   "id": "ce3f271e",
   "metadata": {},
   "outputs": [],
   "source": []
  }
 ],
 "metadata": {
  "kernelspec": {
   "display_name": "Python 3",
   "language": "python",
   "name": "python3"
  },
  "language_info": {
   "codemirror_mode": {
    "name": "ipython",
    "version": 3
   },
   "file_extension": ".py",
   "mimetype": "text/x-python",
   "name": "python",
   "nbconvert_exporter": "python",
   "pygments_lexer": "ipython3",
   "version": "3.8.8"
  }
 },
 "nbformat": 4,
 "nbformat_minor": 5
}
