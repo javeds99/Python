{
 "cells": [
  {
   "cell_type": "code",
   "execution_count": 1,
   "id": "a6013bc8",
   "metadata": {},
   "outputs": [],
   "source": [
    "import pandas as pd\n",
    "import numpy as np\n",
    "import os"
   ]
  },
  {
   "cell_type": "code",
   "execution_count": 2,
   "id": "80d860e9",
   "metadata": {},
   "outputs": [],
   "source": [
    "path = r'C:\\Users\\javed\\instacart Basket Analysis'"
   ]
  },
  {
   "cell_type": "code",
   "execution_count": 7,
   "id": "455a7071",
   "metadata": {},
   "outputs": [],
   "source": [
    "df = pd.read_pickle(os.path.join(path, '02 Data', 'Prepared Data', 'orders_products_merged.pkl'))"
   ]
  },
  {
   "cell_type": "code",
   "execution_count": 8,
   "id": "fbd59fc7",
   "metadata": {},
   "outputs": [
    {
     "name": "stdout",
     "output_type": "stream",
     "text": [
      "<class 'pandas.core.frame.DataFrame'>\n",
      "Int64Index: 32404859 entries, 0 to 32404858\n",
      "Data columns (total 14 columns):\n",
      " #   Column              Dtype   \n",
      "---  ------              -----   \n",
      " 0   order_id            int64   \n",
      " 1   user_id             int64   \n",
      " 2   eval_set            object  \n",
      " 3   order_number        int64   \n",
      " 4   orders_day_of_week  int64   \n",
      " 5   order_hour_of_day   int64   \n",
      " 6   product_id          int64   \n",
      " 7   add_to_cart_order   int64   \n",
      " 8   reordered           int64   \n",
      " 9   _merge              category\n",
      " 10  product_name        object  \n",
      " 11  aisle_id            int64   \n",
      " 12  department_id       int64   \n",
      " 13  prices              float64 \n",
      "dtypes: category(1), float64(1), int64(10), object(2)\n",
      "memory usage: 3.4+ GB\n"
     ]
    }
   ],
   "source": [
    "df.info()"
   ]
  },
  {
   "cell_type": "code",
   "execution_count": 9,
   "id": "4fe6ff2b",
   "metadata": {},
   "outputs": [],
   "source": [
    "df1 = pd.read_pickle(os.path.join(path, '02 Data', 'Prepared Data', 'final.pkl'))"
   ]
  },
  {
   "cell_type": "code",
   "execution_count": 10,
   "id": "4da1e0f3",
   "metadata": {},
   "outputs": [
    {
     "name": "stdout",
     "output_type": "stream",
     "text": [
      "<class 'pandas.core.frame.DataFrame'>\n",
      "Int64Index: 1000000 entries, 0 to 999999\n",
      "Data columns (total 28 columns):\n",
      " #   Column                 Non-Null Count    Dtype  \n",
      "---  ------                 --------------    -----  \n",
      " 0   user_id                1000000 non-null  int64  \n",
      " 1   First Name             947771 non-null   object \n",
      " 2   Surnam                 1000000 non-null  object \n",
      " 3   Gender                 1000000 non-null  object \n",
      " 4   STATE                  1000000 non-null  object \n",
      " 5   Age                    1000000 non-null  int64  \n",
      " 6   n_dependants           1000000 non-null  int64  \n",
      " 7   fam_status             1000000 non-null  object \n",
      " 8   income                 1000000 non-null  int64  \n",
      " 9   order_id               1000000 non-null  int64  \n",
      " 10  order_number           1000000 non-null  int64  \n",
      " 11  orders_day_of_week     1000000 non-null  int64  \n",
      " 12  order_hour_of_day      1000000 non-null  int64  \n",
      " 13  product_id             1000000 non-null  int64  \n",
      " 14  product_name           1000000 non-null  object \n",
      " 15  department_id          1000000 non-null  int64  \n",
      " 16  prices                 1000000 non-null  float64\n",
      " 17  price_range            1000000 non-null  object \n",
      " 18  busiest_days           1000000 non-null  object \n",
      " 19  busiest_period_of_day  1000000 non-null  object \n",
      " 20  max_order              1000000 non-null  int64  \n",
      " 21  loyalty_flag           1000000 non-null  object \n",
      " 22  avg_price              1000000 non-null  float64\n",
      " 23  spending_flag          1000000 non-null  object \n",
      " 24  region                 1000000 non-null  object \n",
      " 25  activity               1000000 non-null  object \n",
      " 26  age_fam_profile        1000000 non-null  object \n",
      " 27  income_dep_prof        1000000 non-null  object \n",
      "dtypes: float64(2), int64(11), object(15)\n",
      "memory usage: 221.3+ MB\n"
     ]
    }
   ],
   "source": [
    "df1.info()"
   ]
  },
  {
   "cell_type": "code",
   "execution_count": 11,
   "id": "a3d72260",
   "metadata": {},
   "outputs": [],
   "source": [
    "df2 = pd.read_csv(os.path.join(path, '02 Data', 'Original Data', 'orders.csv'), index_col= False)"
   ]
  },
  {
   "cell_type": "code",
   "execution_count": 12,
   "id": "3e90ab04",
   "metadata": {},
   "outputs": [
    {
     "name": "stdout",
     "output_type": "stream",
     "text": [
      "<class 'pandas.core.frame.DataFrame'>\n",
      "RangeIndex: 3421083 entries, 0 to 3421082\n",
      "Data columns (total 7 columns):\n",
      " #   Column                  Dtype  \n",
      "---  ------                  -----  \n",
      " 0   order_id                int64  \n",
      " 1   user_id                 int64  \n",
      " 2   eval_set                object \n",
      " 3   order_number            int64  \n",
      " 4   order_dow               int64  \n",
      " 5   order_hour_of_day       int64  \n",
      " 6   days_since_prior_order  float64\n",
      "dtypes: float64(1), int64(5), object(1)\n",
      "memory usage: 182.7+ MB\n"
     ]
    }
   ],
   "source": [
    "df2.info()"
   ]
  },
  {
   "cell_type": "code",
   "execution_count": null,
   "id": "cf23a0d9",
   "metadata": {},
   "outputs": [],
   "source": []
  }
 ],
 "metadata": {
  "kernelspec": {
   "display_name": "Python 3",
   "language": "python",
   "name": "python3"
  },
  "language_info": {
   "codemirror_mode": {
    "name": "ipython",
    "version": 3
   },
   "file_extension": ".py",
   "mimetype": "text/x-python",
   "name": "python",
   "nbconvert_exporter": "python",
   "pygments_lexer": "ipython3",
   "version": "3.8.8"
  }
 },
 "nbformat": 4,
 "nbformat_minor": 5
}
